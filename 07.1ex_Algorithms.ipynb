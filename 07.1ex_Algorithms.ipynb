{
 "cells": [
  {
   "cell_type": "markdown",
   "metadata": {},
   "source": [
    "1\\. **PCA on 3D dataset**\n",
    "\n",
    "* Generate a dataset with 3 features each with N entries (N being ${\\cal O}(1000)$). With $N(\\mu,\\sigma)$ the normali distribution with mean $\\mu$ and $\\sigma$  standard deviation, generate the 3 variables $x_{1,2,3}$ such that:\n",
    "    * $x_1$ is distributed as $N(0,1)$\n",
    "    * $x_2$ is distributed as $x_1+N(0,3)$\n",
    "    * $x_3$ is given by $2x_1+x_2$\n",
    "* Find the eigenvectors and eigenvalues of the covariance matrix of the dataset\n",
    "* Find the eigenvectors and eigenvalues using SVD. Check that they are two procedure yields to same result\n",
    "* What percent of the total variability is explained by the principal components? Given how the dataset was constructed, do these make sense? Reduce the dimensionality of the system so that at least 99% of the total variability is retained.\n",
    "* Redefine the data in the basis yielded by the PCA procedure\n",
    "* Plot the data points in the original and the new coordiantes as a set of scatter plots. Your final figure should have 2 rows of 3 plots each, where the columns show the (0,1), (0,2) and (1,2) proejctions.\n"
   ]
  },
  {
   "cell_type": "code",
   "execution_count": 45,
   "metadata": {},
   "outputs": [
    {
     "name": "stdout",
     "output_type": "stream",
     "text": [
      "\n",
      " autovalori con covariance matrix \n",
      " [2.70590198e+01+0.j 1.57456251e-15+0.j 1.96319773e+00+0.j]\n",
      "\n",
      " autovalori con SVD \n",
      " [2.70590198e+01 1.96319773e+00 2.53938143e-15]\n",
      "\n",
      " autovettori con covariance matrix \n",
      " [[-0.12004617 -0.81649658  0.56473202]\n",
      " [-0.57160647 -0.40824829 -0.71175795]\n",
      " [-0.81169881  0.40824829  0.41770608]]\n",
      "\n",
      " autovettori con SVD \n",
      " [[-0.12004617  0.56473202 -0.81649658]\n",
      " [-0.57160647 -0.71175795 -0.40824829]\n",
      " [-0.81169881  0.41770608  0.40824829]]\n",
      "(0.9999999999999999+0j)\n"
     ]
    }
   ],
   "source": [
    "import matplotlib.pyplot as plt\n",
    "%matplotlib inline\n",
    "import numpy as np\n",
    "from scipy import linalg as la\n",
    "n1=np.random.normal(0,1,2000)\n",
    "n2=n1+np.random.normal(0,3,2000)\n",
    "n3=2*n1+n2\n",
    "n=np.array([n1,n2,n3])\n",
    "cov_n=np.cov(n) #covariance matrix\n",
    "val,vect=la.eig(cov_n)\n",
    "U, spectrum, Vt=la.svd(cov_n)\n",
    "print(\"\\n autovalori con covariance matrix \\n\",val)\n",
    "print(\"\\n autovalori con SVD \\n\",spectrum)\n",
    "print(\"\\n autovettori con covariance matrix \\n\",vect)\n",
    "print(\"\\n autovettori con SVD \\n\",U)\n",
    "percent=(val[0]+val[2])/(val[0]+val[2]+val[1])\n",
    "print(percent) #i dati hanno senso perchè la terza è una combinazione lineare delle prime due\n",
    "l0, V0 = np.linalg.eig(np.dot(n, n.T)/(len(n)-1))\n",
    "np = np.dot(V0.T, n)\n",
    "#npp = np.dot(V0,np)"
   ]
  },
  {
   "cell_type": "markdown",
   "metadata": {},
   "source": [
    "2\\. **PCA on a nD dataset**\n",
    "\n",
    "Start from the dataset you have genereted in the previous exercise and add uncorrelated random noise. Such noise should be represented by other 10 uncorrelated variables normal distributed, with standar deviation much smaller (say, a factor 50) than those used to generate the $x_1$ and $x_2$.\n",
    "\n",
    "Repeat the PCA procedure and compare the results with what you obtained before"
   ]
  },
  {
   "cell_type": "code",
   "execution_count": null,
   "metadata": {},
   "outputs": [],
   "source": []
  },
  {
   "cell_type": "markdown",
   "metadata": {},
   "source": [
    "3 \\. **Looking at an oscillating spring** (optional)\n",
    "\n",
    "Imagine you have $n$ cameras looking at a spring oscillating along the $x$ axis. Each  camera record the motion of the spring looking at it along a given direction defined by the pair $(\\theta_i, \\phi_i)$, the angles in spherical coordinates. \n",
    "\n",
    "Start from the simulation of the records (say ${\\cal O}(1000)$) of the spring's motion along the x axis, assuming a little random noise affects the measurements along the $y$. Rotate such dataset to emulate the records of each camera.\n",
    "\n",
    "Perform a Principal Component Analysis on the thus obtained dataset, aiming at finding the only one coordinate that really matters.\n"
   ]
  },
  {
   "cell_type": "code",
   "execution_count": null,
   "metadata": {},
   "outputs": [],
   "source": []
  },
  {
   "cell_type": "markdown",
   "metadata": {},
   "source": [
    "4\\. **PCA on the MAGIC dataset** (optional)\n",
    "\n",
    "Perform a PCA on the magic04.data dataset"
   ]
  },
  {
   "cell_type": "code",
   "execution_count": null,
   "metadata": {},
   "outputs": [],
   "source": []
  }
 ],
 "metadata": {
  "kernelspec": {
   "display_name": "Python 3",
   "language": "python",
   "name": "python3"
  },
  "language_info": {
   "codemirror_mode": {
    "name": "ipython",
    "version": 3
   },
   "file_extension": ".py",
   "mimetype": "text/x-python",
   "name": "python",
   "nbconvert_exporter": "python",
   "pygments_lexer": "ipython3",
   "version": "3.7.0"
  }
 },
 "nbformat": 4,
 "nbformat_minor": 2
}
